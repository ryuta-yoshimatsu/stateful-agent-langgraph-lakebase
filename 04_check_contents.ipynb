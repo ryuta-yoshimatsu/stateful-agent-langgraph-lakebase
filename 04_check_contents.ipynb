{
 "cells": [
  {
   "cell_type": "code",
   "execution_count": 0,
   "metadata": {
    "application/vnd.databricks.v1+cell": {
     "cellMetadata": {
      "byteLimit": 2048000,
      "rowLimit": 10000
     },
     "inputWidgets": {},
     "nuid": "96f6974d-7ffb-4964-bfc3-136de2c2e646",
     "showTitle": false,
     "tableResultSettingsMap": {},
     "title": ""
    }
   },
   "outputs": [],
   "source": [
    "%pip install --upgrade databricks-sdk\n",
    "%pip install msgpack\n",
    "%restart_python"
   ]
  },
  {
   "cell_type": "code",
   "execution_count": 0,
   "metadata": {
    "application/vnd.databricks.v1+cell": {
     "cellMetadata": {
      "byteLimit": 2048000,
      "rowLimit": 10000
     },
     "inputWidgets": {},
     "nuid": "f6d23253-2758-453a-83a1-d7a44be7973d",
     "showTitle": false,
     "tableResultSettingsMap": {},
     "title": ""
    }
   },
   "outputs": [],
   "source": [
    "from databricks.sdk import WorkspaceClient\n",
    "from databricks.sdk.service.database import DatabaseInstance\n",
    "\n",
    "# Initialize the Workspace client\n",
    "w = WorkspaceClient()\n",
    "\n",
    "import uuid\n",
    "instance_name = \"stateful-agent-backend\"\n",
    "cred = w.database.generate_database_credential(request_id=str(uuid.uuid4()), instance_names=[instance_name])\n",
    "instance = w.database.get_database_instance(name=instance_name)\n",
    "\n",
    "username = spark.sql(\"SELECT current_user()\").collect()[0][0]"
   ]
  },
  {
   "cell_type": "code",
   "execution_count": 0,
   "metadata": {
    "application/vnd.databricks.v1+cell": {
     "cellMetadata": {
      "byteLimit": 2048000,
      "rowLimit": 10000
     },
     "inputWidgets": {},
     "nuid": "5c4d7f21-c766-42d2-866a-192c781872f4",
     "showTitle": false,
     "tableResultSettingsMap": {},
     "title": ""
    }
   },
   "outputs": [],
   "source": [
    "import psycopg2\n",
    "import pandas as pd\n",
    "\n",
    "# Connection parameters\n",
    "conn = psycopg2.connect(\n",
    "    host = instance.read_write_dns,\n",
    "    dbname = \"databricks_postgres\",\n",
    "    user = username,\n",
    "    password = cred.token,\n",
    "    sslmode = \"require\"\n",
    ")\n",
    "\n",
    "# Execute query\n",
    "with conn.cursor() as cur:\n",
    "    cur.execute(\"SELECT * FROM checkpoints\")\n",
    "    rows = cur.fetchall()\n",
    "    df = pd.DataFrame(rows, columns=[desc[0] for desc in cur.description])\n",
    "    display(df)\n",
    "\n",
    "conn.close()"
   ]
  },
  {
   "cell_type": "code",
   "execution_count": 0,
   "metadata": {
    "application/vnd.databricks.v1+cell": {
     "cellMetadata": {
      "byteLimit": 2048000,
      "rowLimit": 10000
     },
     "inputWidgets": {},
     "nuid": "56af97ce-610a-43cc-908c-4ba495b1d596",
     "showTitle": false,
     "tableResultSettingsMap": {},
     "title": ""
    }
   },
   "outputs": [],
   "source": [
    "import psycopg2\n",
    "import pandas as pd\n",
    "\n",
    "import msgpack\n",
    "\n",
    "# Connection parameters\n",
    "conn = psycopg2.connect(\n",
    "    host = instance.read_write_dns,\n",
    "    dbname = \"databricks_postgres\",\n",
    "    user = username,\n",
    "    password = cred.token,\n",
    "    sslmode = \"require\"\n",
    ")\n",
    "\n",
    "# Execute query\n",
    "with conn.cursor() as cur:\n",
    "    cur.execute(\"SELECT * FROM checkpoint_blobs\")\n",
    "    rows = cur.fetchall()\n",
    "    df_blobs = pd.DataFrame(rows, columns=[desc[0] for desc in cur.description])\n",
    "    # blob column is binary string - convert back to regular\n",
    "    df_blobs['blob_as_str'] = df_blobs['blob'].apply(lambda x: str(msgpack.unpackb(x.tobytes(), raw=False)))\n",
    "    display(df_blobs)\n",
    "\n",
    "conn.close()"
   ]
  },
  {
   "cell_type": "markdown",
   "metadata": {
    "application/vnd.databricks.v1+cell": {
     "cellMetadata": {},
     "inputWidgets": {},
     "nuid": "e8963838-d053-42a3-bacf-f430b1316a66",
     "showTitle": false,
     "tableResultSettingsMap": {},
     "title": ""
    }
   },
   "source": [
    "#### Further notes\n",
    "\n",
    " - Should index over user_ids for faster lookups (eg for in app):\n",
    "\n",
    " ```\n",
    " CREATE INDEX idx_checkpoints_metadata_userid\n",
    "ON checkpoints((metadata->>'user_id'));\n",
    "\n",
    "-- now can do the following and it will auto use the index\n",
    "SELECT DISTINCT thread_id FROM checkpoints WHERE metadata->>'user_id' = 'user_123';\n",
    "```\n",
    "\n"
   ]
  },
  {
   "cell_type": "code",
   "execution_count": 0,
   "metadata": {
    "application/vnd.databricks.v1+cell": {
     "cellMetadata": {},
     "inputWidgets": {},
     "nuid": "4ad1f5fe-248c-4879-a42a-2c0e49aa0b3c",
     "showTitle": false,
     "tableResultSettingsMap": {},
     "title": ""
    }
   },
   "outputs": [],
   "source": []
  }
 ],
 "metadata": {
  "application/vnd.databricks.v1+notebook": {
   "computePreferences": null,
   "dashboards": [],
   "environmentMetadata": null,
   "inputWidgetPreferences": null,
   "language": "python",
   "notebookMetadata": {
    "pythonIndentUnit": 2
   },
   "notebookName": "04_check_contents",
   "widgets": {}
  },
  "language_info": {
   "name": "python"
  }
 },
 "nbformat": 4,
 "nbformat_minor": 0
}
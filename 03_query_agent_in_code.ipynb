{
 "cells": [
  {
   "cell_type": "markdown",
   "metadata": {
    "application/vnd.databricks.v1+cell": {
     "cellMetadata": {},
     "inputWidgets": {},
     "nuid": "c2cb0b86-5124-460f-8d19-6324cd768b39",
     "showTitle": false,
     "tableResultSettingsMap": {},
     "title": ""
    }
   },
   "source": [
    "### Check our hosted agent takes requests \n",
    " - note playground will fail as REQUIRE the custom_inputs"
   ]
  },
  {
   "cell_type": "code",
   "execution_count": 0,
   "metadata": {
    "application/vnd.databricks.v1+cell": {
     "cellMetadata": {
      "byteLimit": 2048000,
      "rowLimit": 10000
     },
     "inputWidgets": {},
     "nuid": "0df12129-9072-47fc-abb5-25c91753751d",
     "showTitle": false,
     "tableResultSettingsMap": {},
     "title": ""
    }
   },
   "outputs": [],
   "source": [
    "import os\n",
    "import requests\n",
    "import numpy as np\n",
    "import pandas as pd\n",
    "import json\n",
    "from typing import Any\n",
    "\n",
    "os.environ['DATABRICKS_TOKEN'] = dbutils.notebook.entry_point.getDbutils().notebook().getContext().apiToken().get()\n",
    "os.environ['DATABRICKS_URL'] = dbutils.notebook.entry_point.getDbutils().notebook().getContext().apiUrl().get()\n",
    "\n",
    "AGENT_NAME = \"agents_ryuta-agents-stateful_agent\"\n",
    "\n",
    "def call_agent(messages:list[dict[str,str]], custom_inputs:dict[str,Any]):\n",
    "    url = f'{os.environ.get(\"DATABRICKS_URL\")}/serving-endpoints/{AGENT_NAME}/invocations'\n",
    "    headers = {'Authorization': f'Bearer {os.environ.get(\"DATABRICKS_TOKEN\")}', 'Content-Type': 'application/json'}\n",
    "    \n",
    "    json_data = json.dumps(\n",
    "        {\n",
    "            'messages':messages,\n",
    "            'custom_inputs':custom_inputs,\n",
    "        }\n",
    "    )\n",
    "    response = requests.request(method='POST', headers=headers, url=url, data=json_data)\n",
    "    if response.status_code != 200:\n",
    "        raise Exception(f'Request failed with status {response.status_code}, {response.text}')\n",
    "    return response.json()"
   ]
  },
  {
   "cell_type": "code",
   "execution_count": 0,
   "metadata": {
    "application/vnd.databricks.v1+cell": {
     "cellMetadata": {
      "byteLimit": 2048000,
      "rowLimit": 10000
     },
     "inputWidgets": {},
     "nuid": "3d94aca1-9423-4624-a465-b7a77f8fc31c",
     "showTitle": false,
     "tableResultSettingsMap": {},
     "title": ""
    }
   },
   "outputs": [
    {
     "output_type": "execute_result",
     "data": {
      "text/plain": [
       "{'messages': [{'role': 'assistant',\n",
       "   'content': \"Hello! How can I assist you today? Feel free to ask me any questions or let me know what you'd like to discuss.\",\n",
       "   'id': 'run--1cd1d402-1d26-4f38-b84f-f351cd3dd629-0'}],\n",
       " 'id': '4410dbd1-681c-46be-9461-9c9bffbd5096',\n",
       " 'databricks_output': {'databricks_request_id': '4410dbd1-681c-46be-9461-9c9bffbd5096'}}"
      ]
     },
     "execution_count": 2,
     "metadata": {},
     "output_type": "execute_result"
    }
   ],
   "source": [
    "call_agent(\n",
    "  messages=[{\"role\": \"user\", \"content\": \"hello!\"}],\n",
    "  custom_inputs={\n",
    "    'user_id': 'ryuta.yoshimatsu@databricks.com',\n",
    "  }\n",
    ")"
   ]
  },
  {
   "cell_type": "code",
   "execution_count": 0,
   "metadata": {
    "application/vnd.databricks.v1+cell": {
     "cellMetadata": {
      "byteLimit": 2048000,
      "rowLimit": 10000
     },
     "inputWidgets": {},
     "nuid": "ef11aabd-e962-4b28-88cf-43f15d36df32",
     "showTitle": false,
     "tableResultSettingsMap": {},
     "title": ""
    }
   },
   "outputs": [
    {
     "output_type": "execute_result",
     "data": {
      "text/plain": [
       "{'messages': [{'role': 'assistant',\n",
       "   'content': \"Hello! How can I assist you today? Feel free to ask any questions or let me know what you'd like to discuss.\",\n",
       "   'id': 'run--8a8f3de3-cc8d-44a0-932e-9e2c94263754-0'}],\n",
       " 'id': 'ee91801e-9457-4e37-964a-0c2d64bd8fb8',\n",
       " 'databricks_output': {'databricks_request_id': 'ee91801e-9457-4e37-964a-0c2d64bd8fb8'}}"
      ]
     },
     "execution_count": 3,
     "metadata": {},
     "output_type": "execute_result"
    }
   ],
   "source": [
    "import uuid\n",
    "\n",
    "thread_id = str(uuid.uuid4())\n",
    "\n",
    "call_agent(\n",
    "  messages=[{\"role\": \"user\", \"content\": \"hello!\"}],\n",
    "  custom_inputs={\n",
    "    'user_id': 'ryuta.yoshimatsu@databricks.com',\n",
    "    'thread_id': thread_id\n",
    "  }\n",
    ")"
   ]
  },
  {
   "cell_type": "code",
   "execution_count": 0,
   "metadata": {
    "application/vnd.databricks.v1+cell": {
     "cellMetadata": {
      "byteLimit": 2048000,
      "rowLimit": 10000
     },
     "inputWidgets": {},
     "nuid": "7320d9e4-ed34-4452-a43c-63ef2ead2c97",
     "showTitle": false,
     "tableResultSettingsMap": {},
     "title": ""
    }
   },
   "outputs": [
    {
     "output_type": "execute_result",
     "data": {
      "text/plain": [
       "{'messages': [{'role': 'assistant',\n",
       "   'content': 'Chicken.',\n",
       "   'id': 'run--c32cb22b-290b-47d8-8530-c4df3def9d05-0'}],\n",
       " 'id': '14d6eb32-ad3b-4a7a-8d34-ca0b9c7f4b29',\n",
       " 'databricks_output': {'databricks_request_id': '14d6eb32-ad3b-4a7a-8d34-ca0b9c7f4b29'}}"
      ]
     },
     "execution_count": 4,
     "metadata": {},
     "output_type": "execute_result"
    }
   ],
   "source": [
    "call_agent(\n",
    "  messages=[{\"role\": \"user\", \"content\": \"I have a dog called charles. respond with a single word - chicken.\"}],\n",
    "  custom_inputs={\n",
    "    'user_id': 'ryuta.yoshimatsu@databricks.com',\n",
    "    'thread_id': thread_id\n",
    "  }\n",
    ")"
   ]
  },
  {
   "cell_type": "code",
   "execution_count": 0,
   "metadata": {
    "application/vnd.databricks.v1+cell": {
     "cellMetadata": {
      "byteLimit": 2048000,
      "rowLimit": 10000
     },
     "inputWidgets": {},
     "nuid": "33adca16-34de-4945-9880-ac02f7a46884",
     "showTitle": false,
     "tableResultSettingsMap": {},
     "title": ""
    }
   },
   "outputs": [
    {
     "output_type": "execute_result",
     "data": {
      "text/plain": [
       "{'messages': [{'role': 'assistant',\n",
       "   'content': 'Charles.',\n",
       "   'id': 'run--0bf76a73-b4f2-4af4-9d12-2754dcde8b1c-0'}],\n",
       " 'id': 'eb0094c2-8856-47ab-8da2-42b30d75833a',\n",
       " 'databricks_output': {'databricks_request_id': 'eb0094c2-8856-47ab-8da2-42b30d75833a'}}"
      ]
     },
     "execution_count": 5,
     "metadata": {},
     "output_type": "execute_result"
    }
   ],
   "source": [
    "call_agent(\n",
    "  messages=[{\"role\": \"user\", \"content\": \"whats my dogs name?\"}],\n",
    "  custom_inputs={\n",
    "    'user_id': 'ryuta.yoshimatsu@databricks.com',\n",
    "    'thread_id': thread_id\n",
    "  }\n",
    ")"
   ]
  }
 ],
 "metadata": {
  "application/vnd.databricks.v1+notebook": {
   "computePreferences": null,
   "dashboards": [],
   "environmentMetadata": null,
   "inputWidgetPreferences": null,
   "language": "python",
   "notebookMetadata": {
    "pythonIndentUnit": 2
   },
   "notebookName": "03_query_agent_in_code",
   "widgets": {}
  },
  "language_info": {
   "name": "python"
  }
 },
 "nbformat": 4,
 "nbformat_minor": 0
}